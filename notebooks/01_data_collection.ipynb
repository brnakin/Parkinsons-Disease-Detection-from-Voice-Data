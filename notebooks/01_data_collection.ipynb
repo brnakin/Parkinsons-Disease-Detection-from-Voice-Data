{
  "cells": [
    {
      "cell_type": "markdown",
      "metadata": {
        "vscode": {
          "languageId": "raw"
        }
      },
      "source": [
        "# Data Collection - Parkinson's Disease Detection\n",
        "\n",
        "This notebook downloads the UCI Parkinson's Dataset for voice-based disease detection.\n",
        "\n",
        "**Dataset**: Oxford Parkinson's Disease Detection Dataset  \n",
        "**Source**: UCI Machine Learning Repository  \n",
        "**Files**: parkinsons.data, parkinsons.names\n"
      ]
    },
    {
      "cell_type": "code",
      "execution_count": 1,
      "metadata": {},
      "outputs": [
        {
          "name": "stdout",
          "output_type": "stream",
          "text": [
            "Data directory ready!\n"
          ]
        }
      ],
      "source": [
        "import pandas as pd\n",
        "import os\n",
        "\n",
        "# Create data directory if it doesn't exist\n",
        "os.makedirs('../data', exist_ok=True)\n",
        "print(\"Data directory ready!\")\n"
      ]
    },
    {
      "cell_type": "markdown",
      "metadata": {
        "vscode": {
          "languageId": "raw"
        }
      },
      "source": [
        "## Download Dataset\n",
        "\n",
        "Downloading the Parkinson's dataset files from UCI repository.\n"
      ]
    },
    {
      "cell_type": "code",
      "execution_count": 2,
      "metadata": {},
      "outputs": [
        {
          "name": "stdout",
          "output_type": "stream",
          "text": [
            "--2025-06-17 21:57:32--  https://archive.ics.uci.edu/ml/machine-learning-databases/parkinsons/parkinsons.data\n",
            "Resolving archive.ics.uci.edu (archive.ics.uci.edu)... 128.195.10.252\n",
            "Connecting to archive.ics.uci.edu (archive.ics.uci.edu)|128.195.10.252|:443... connected.\n",
            "HTTP request sent, awaiting response... 200 OK\n",
            "Length: unspecified\n",
            "Saving to: ‘../data/parkinsons.data’\n",
            "\n",
            "../data/parkinsons.     [  <=>               ]  39.74K   111KB/s    in 0.4s    \n",
            "\n",
            "2025-06-17 21:57:33 (111 KB/s) - ‘../data/parkinsons.data’ saved [40697]\n",
            "\n",
            "--2025-06-17 21:57:34--  https://archive.ics.uci.edu/ml/machine-learning-databases/parkinsons/parkinsons.names\n",
            "Resolving archive.ics.uci.edu (archive.ics.uci.edu)... 128.195.10.252\n",
            "Connecting to archive.ics.uci.edu (archive.ics.uci.edu)|128.195.10.252|:443... connected.\n",
            "HTTP request sent, awaiting response... 200 OK\n",
            "Length: unspecified\n",
            "Saving to: ‘../data/parkinsons.names’\n",
            "\n",
            "../data/parkinsons.     [ <=>                ]   3.01K  --.-KB/s    in 0s      \n",
            "\n",
            "2025-06-17 21:57:34 (401 MB/s) - ‘../data/parkinsons.names’ saved [3080]\n",
            "\n",
            "Dataset downloaded successfully!\n"
          ]
        }
      ],
      "source": [
        "# Download parkinsons.data\n",
        "!wget -O ../data/parkinsons.data https://archive.ics.uci.edu/ml/machine-learning-databases/parkinsons/parkinsons.data\n",
        "\n",
        "# Download parkinsons.names  \n",
        "!wget -O ../data/parkinsons.names https://archive.ics.uci.edu/ml/machine-learning-databases/parkinsons/parkinsons.names\n",
        "\n",
        "print(\"Dataset downloaded successfully!\")\n"
      ]
    },
    {
      "cell_type": "markdown",
      "metadata": {
        "vscode": {
          "languageId": "raw"
        }
      },
      "source": [
        "## Data Verification\n",
        "\n",
        "Quick verification of downloaded files using head() command.\n"
      ]
    },
    {
      "cell_type": "code",
      "execution_count": 3,
      "metadata": {},
      "outputs": [
        {
          "name": "stdout",
          "output_type": "stream",
          "text": [
            "Dataset shape: (195, 24)\n",
            "\n",
            "First 5 rows:\n",
            "             name  MDVP:Fo(Hz)  MDVP:Fhi(Hz)  MDVP:Flo(Hz)  MDVP:Jitter(%)  \\\n",
            "0  phon_R01_S01_1      119.992       157.302        74.997         0.00784   \n",
            "1  phon_R01_S01_2      122.400       148.650       113.819         0.00968   \n",
            "2  phon_R01_S01_3      116.682       131.111       111.555         0.01050   \n",
            "3  phon_R01_S01_4      116.676       137.871       111.366         0.00997   \n",
            "4  phon_R01_S01_5      116.014       141.781       110.655         0.01284   \n",
            "\n",
            "   MDVP:Jitter(Abs)  MDVP:RAP  MDVP:PPQ  Jitter:DDP  MDVP:Shimmer  ...  \\\n",
            "0           0.00007   0.00370   0.00554     0.01109       0.04374  ...   \n",
            "1           0.00008   0.00465   0.00696     0.01394       0.06134  ...   \n",
            "2           0.00009   0.00544   0.00781     0.01633       0.05233  ...   \n",
            "3           0.00009   0.00502   0.00698     0.01505       0.05492  ...   \n",
            "4           0.00011   0.00655   0.00908     0.01966       0.06425  ...   \n",
            "\n",
            "   Shimmer:DDA      NHR     HNR  status      RPDE       DFA   spread1  \\\n",
            "0      0.06545  0.02211  21.033       1  0.414783  0.815285 -4.813031   \n",
            "1      0.09403  0.01929  19.085       1  0.458359  0.819521 -4.075192   \n",
            "2      0.08270  0.01309  20.651       1  0.429895  0.825288 -4.443179   \n",
            "3      0.08771  0.01353  20.644       1  0.434969  0.819235 -4.117501   \n",
            "4      0.10470  0.01767  19.649       1  0.417356  0.823484 -3.747787   \n",
            "\n",
            "    spread2        D2       PPE  \n",
            "0  0.266482  2.301442  0.284654  \n",
            "1  0.335590  2.486855  0.368674  \n",
            "2  0.311173  2.342259  0.332634  \n",
            "3  0.334147  2.405554  0.368975  \n",
            "4  0.234513  2.332180  0.410335  \n",
            "\n",
            "[5 rows x 24 columns]\n",
            "\n",
            "Dataset contains 195 voice recordings\n",
            "Number of features: 24\n",
            "Target variable 'status': {1: 147, 0: 48}\n"
          ]
        }
      ],
      "source": [
        "# Load and verify the main dataset\n",
        "df = pd.read_csv('../data/parkinsons.data')\n",
        "\n",
        "print(\"Dataset shape:\", df.shape)\n",
        "print(\"\\nFirst 5 rows:\")\n",
        "print(df.head())\n",
        "\n",
        "print(f\"\\nDataset contains {len(df)} voice recordings\")\n",
        "print(f\"Number of features: {len(df.columns)}\")\n",
        "print(f\"Target variable 'status': {df['status'].value_counts().to_dict()}\")\n"
      ]
    },
    {
      "cell_type": "code",
      "execution_count": 4,
      "metadata": {},
      "outputs": [
        {
          "name": "stdout",
          "output_type": "stream",
          "text": [
            "Dataset metadata (first few lines):\n",
            "1: Title: Parkinsons Disease Data Set\n",
            "2: \n",
            "3: Abstract: Oxford Parkinson's Disease Detection Dataset\n",
            "4: \n",
            "5: -----------------------------------------------------\n",
            "6: \n",
            "7: Data Set Characteristics: Multivariate\n",
            "8: Number of Instances: 197\n",
            "9: Area: Life\n",
            "10: Attribute Characteristics: Real\n",
            "\n",
            "✓ Data collection completed!\n",
            "✓ Files saved in ../data/ directory\n",
            "✓ Ready for exploratory data analysis\n"
          ]
        }
      ],
      "source": [
        "# Verify the metadata file\n",
        "print(\"Dataset metadata (first few lines):\")\n",
        "with open('../data/parkinsons.names', 'r') as f:\n",
        "    lines = f.readlines()\n",
        "    for i, line in enumerate(lines[:10]):\n",
        "        print(f\"{i+1}: {line.strip()}\")\n",
        "\n",
        "print(f\"\\n✓ Data collection completed!\")\n",
        "print(f\"✓ Files saved in ../data/ directory\")\n",
        "print(f\"✓ Ready for exploratory data analysis\")\n"
      ]
    }
  ],
  "metadata": {
    "kernelspec": {
      "display_name": "university-machine-learning-project-parkinsons-voice_v2",
      "language": "python",
      "name": "python3"
    },
    "language_info": {
      "codemirror_mode": {
        "name": "ipython",
        "version": 3
      },
      "file_extension": ".py",
      "mimetype": "text/x-python",
      "name": "python",
      "nbconvert_exporter": "python",
      "pygments_lexer": "ipython3",
      "version": "3.9.23"
    }
  },
  "nbformat": 4,
  "nbformat_minor": 2
}
